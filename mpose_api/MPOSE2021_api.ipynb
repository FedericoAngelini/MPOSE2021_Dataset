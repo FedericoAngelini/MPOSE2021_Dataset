{
 "cells": [
  {
   "cell_type": "code",
   "execution_count": 1,
   "id": "98e88a6d",
   "metadata": {
    "ExecuteTime": {
     "end_time": "2021-12-24T12:57:45.899836Z",
     "start_time": "2021-12-24T12:57:45.893008Z"
    }
   },
   "outputs": [],
   "source": [
    "%load_ext autoreload\n",
    "%autoreload 2"
   ]
  },
  {
   "cell_type": "code",
   "execution_count": 2,
   "id": "1f283fc3",
   "metadata": {
    "ExecuteTime": {
     "end_time": "2021-12-24T12:57:46.234057Z",
     "start_time": "2021-12-24T12:57:46.093206Z"
    }
   },
   "outputs": [],
   "source": [
    "from mpose import MPOSE\n",
    "import numpy as np\n",
    "import matplotlib.pyplot as plt\n",
    "from mpose.utils import plot_pose"
   ]
  },
  {
   "cell_type": "code",
   "execution_count": 3,
   "id": "fe93d83b",
   "metadata": {
    "ExecuteTime": {
     "end_time": "2021-12-24T12:57:46.433932Z",
     "start_time": "2021-12-24T12:57:46.429338Z"
    }
   },
   "outputs": [],
   "source": [
    "pose_extractor = 'openpose'\n",
    "split = 1"
   ]
  },
  {
   "cell_type": "code",
   "execution_count": 4,
   "id": "5c893abd",
   "metadata": {
    "ExecuteTime": {
     "end_time": "2021-12-24T12:57:46.707544Z",
     "start_time": "2021-12-24T12:57:46.627974Z"
    }
   },
   "outputs": [
    {
     "name": "stdout",
     "output_type": "stream",
     "text": [
      "Initializing MPOSE2021 with openpose Pose Extractor\n",
      "Downloading Data...\n",
      "file exists in ./tmp/openpose.zip. specify overwrite=True if intended\n",
      "Extracting Archive to ./tmp/...\n"
     ]
    }
   ],
   "source": [
    "dataset = MPOSE(pose_extractor=pose_extractor, \n",
    "                split=split, \n",
    "                preprocess=None, \n",
    "                velocities=False, \n",
    "                remove_zip=False)"
   ]
  },
  {
   "cell_type": "code",
   "execution_count": 5,
   "id": "316d3317",
   "metadata": {
    "ExecuteTime": {
     "end_time": "2021-12-24T12:57:46.968630Z",
     "start_time": "2021-12-24T12:57:46.899503Z"
    },
    "scrolled": true
   },
   "outputs": [
    {
     "name": "stdout",
     "output_type": "stream",
     "text": [
      "----Dataset Information----\n",
      "Pose Extractor: openpose\n",
      "Split: openpose\n",
      "X_train shape: (12562, 30, 25, 3)\n",
      "X_test shape: (2867, 30, 25, 3)\n",
      "Min-Max feature ranges:\n",
      "x: [0.0, 828.042]\n",
      "y: [0.0, 558.729]\n",
      "p: [0.0, 1.0]\n"
     ]
    }
   ],
   "source": [
    "dataset.get_info()"
   ]
  },
  {
   "cell_type": "code",
   "execution_count": 6,
   "id": "cb5b7f3c",
   "metadata": {
    "ExecuteTime": {
     "end_time": "2021-12-24T12:57:47.205995Z",
     "start_time": "2021-12-24T12:57:47.161000Z"
    },
    "scrolled": true
   },
   "outputs": [
    {
     "name": "stdout",
     "output_type": "stream",
     "text": [
      "(12562, 30, 25, 3) (2867, 30, 25, 3)\n"
     ]
    }
   ],
   "source": [
    "X_train, y_train, X_test, y_test = dataset.get_data()\n",
    "print(X_train.shape, X_test.shape)"
   ]
  },
  {
   "cell_type": "code",
   "execution_count": 7,
   "id": "902da773",
   "metadata": {
    "ExecuteTime": {
     "end_time": "2021-12-24T12:57:47.769553Z",
     "start_time": "2021-12-24T12:57:47.640091Z"
    }
   },
   "outputs": [
    {
     "data": {
      "image/png": "[encoded data removed]",
      "text/plain": [
       "<Figure size 432x288 with 1 Axes>"
      ]
     },
     "metadata": {
      "needs_background": "light"
     },
     "output_type": "display_data"
    }
   ],
   "source": [
    "pose = X_train[1000,15,:,:]\n",
    "plot_pose(pose)"
   ]
  },
  {
   "cell_type": "code",
   "execution_count": 26,
   "id": "5f04c518",
   "metadata": {
    "ExecuteTime": {
     "end_time": "2021-12-24T12:59:38.614855Z",
     "start_time": "2021-12-24T12:59:27.235834Z"
    }
   },
   "outputs": [
    {
     "name": "stdout",
     "output_type": "stream",
     "text": [
      "Keypoint number has already been reduced!\n"
     ]
    }
   ],
   "source": [
    "dataset.scale_to_unit()\n",
    "dataset.add_velocities()\n",
    "dataset.reduce_keypoints()"
   ]
  },
  {
   "cell_type": "code",
   "execution_count": 27,
   "id": "1879ba02",
   "metadata": {
    "ExecuteTime": {
     "end_time": "2021-12-24T12:59:39.154567Z",
     "start_time": "2021-12-24T12:59:39.050572Z"
    },
    "scrolled": true
   },
   "outputs": [
    {
     "name": "stdout",
     "output_type": "stream",
     "text": [
      "----Dataset Information----\n",
      "Pose Extractor: openpose\n",
      "Split: openpose\n",
      "X_train shape: (12562, 30, 15, 5)\n",
      "X_test shape: (2867, 30, 15, 5)\n",
      "Min-Max feature ranges:\n",
      "x: [0.0, 1.0]\n",
      "y: [0.0, 1.0]\n",
      "Vx: [-1.0, 1.0]\n",
      "Vy: [-1.0, 1.0]\n",
      "p: [0.0, 1.0]\n"
     ]
    }
   ],
   "source": [
    "dataset.get_info()"
   ]
  },
  {
   "cell_type": "code",
   "execution_count": 28,
   "id": "69b853bc",
   "metadata": {
    "ExecuteTime": {
     "end_time": "2021-12-24T12:59:39.631472Z",
     "start_time": "2021-12-24T12:59:39.608454Z"
    }
   },
   "outputs": [
    {
     "name": "stdout",
     "output_type": "stream",
     "text": [
      "(12562, 30, 15, 5) (2867, 30, 15, 5)\n"
     ]
    }
   ],
   "source": [
    "X_train, y_train, X_test, y_test = dataset.get_data()\n",
    "print(X_train.shape, X_test.shape)"
   ]
  },
  {
   "cell_type": "code",
   "execution_count": 29,
   "id": "400b7f6f",
   "metadata": {
    "ExecuteTime": {
     "end_time": "2021-12-24T12:59:40.313400Z",
     "start_time": "2021-12-24T12:59:40.207461Z"
    }
   },
   "outputs": [
    {
     "data": {
      "image/png": "[encoded data removed]",
      "text/plain": [
       "<Figure size 432x288 with 1 Axes>"
      ]
     },
     "metadata": {
      "needs_background": "light"
     },
     "output_type": "display_data"
    }
   ],
   "source": [
    "pose = X_train[1000,15,:,:]\n",
    "plot_pose(pose)"
   ]
  },
  {
   "cell_type": "code",
   "execution_count": 30,
   "id": "aad66c26",
   "metadata": {
    "ExecuteTime": {
     "end_time": "2021-12-24T12:59:46.330895Z",
     "start_time": "2021-12-24T12:59:40.904976Z"
    }
   },
   "outputs": [],
   "source": [
    "dataset.scale_and_center()"
   ]
  },
  {
   "cell_type": "code",
   "execution_count": 31,
   "id": "3e355340",
   "metadata": {
    "ExecuteTime": {
     "end_time": "2021-12-24T12:59:47.002893Z",
     "start_time": "2021-12-24T12:59:46.911653Z"
    }
   },
   "outputs": [
    {
     "name": "stdout",
     "output_type": "stream",
     "text": [
      "----Dataset Information----\n",
      "Pose Extractor: openpose\n",
      "Split: openpose\n",
      "X_train shape: (12562, 30, 13, 5)\n",
      "X_test shape: (2867, 30, 13, 5)\n",
      "Min-Max feature ranges:\n",
      "x: [-1.0, 1.0]\n",
      "y: [-0.9995300432531916, 1.0]\n",
      "Vx: [-2.0, 2.0]\n",
      "Vy: [-1.9995300432531917, 1.9990533747064134]\n",
      "p: [0.0, 1.0]\n"
     ]
    }
   ],
   "source": [
    "dataset.get_info()"
   ]
  },
  {
   "cell_type": "code",
   "execution_count": 32,
   "id": "b62bd277",
   "metadata": {
    "ExecuteTime": {
     "end_time": "2021-12-24T12:59:47.620157Z",
     "start_time": "2021-12-24T12:59:47.583667Z"
    }
   },
   "outputs": [
    {
     "name": "stdout",
     "output_type": "stream",
     "text": [
      "(12562, 30, 13, 5) (2867, 30, 13, 5)\n"
     ]
    }
   ],
   "source": [
    "X_train, y_train, X_test, y_test = dataset.get_data()\n",
    "print(X_train.shape, X_test.shape)"
   ]
  },
  {
   "cell_type": "code",
   "execution_count": 33,
   "id": "d6e6cc11",
   "metadata": {
    "ExecuteTime": {
     "end_time": "2021-12-24T12:59:48.312554Z",
     "start_time": "2021-12-24T12:59:48.213382Z"
    }
   },
   "outputs": [
    {
     "data": {
      "image/png": "[encoded data removed]",
      "text/plain": [
       "<Figure size 432x288 with 1 Axes>"
      ]
     },
     "metadata": {
      "needs_background": "light"
     },
     "output_type": "display_data"
    }
   ],
   "source": [
    "pose = X_train[1000,15,:,:]\n",
    "plot_pose(pose)"
   ]
  },
  {
   "cell_type": "code",
   "execution_count": 34,
   "id": "23548fbd",
   "metadata": {
    "ExecuteTime": {
     "end_time": "2021-12-24T13:00:08.490772Z",
     "start_time": "2021-12-24T13:00:08.484308Z"
    }
   },
   "outputs": [],
   "source": [
    "def center(X):\n",
    "    seq_list = []\n",
    "    for seq in X:\n",
    "        pose_list = []\n",
    "        for pose in seq:\n",
    "            zero_point = (pose[6, :2] + pose[5,:2]) / 2\n",
    "            pose[:,:2] = (pose[:,:2] - zero_point)\n",
    "            pose_list.append(pose)\n",
    "        seq = np.stack(pose_list)\n",
    "        seq_list.append(seq)\n",
    "    X = np.stack(seq_list)\n",
    "    return X"
   ]
  },
  {
   "cell_type": "code",
   "execution_count": 35,
   "id": "eccdb2f7",
   "metadata": {
    "ExecuteTime": {
     "end_time": "2021-12-24T13:00:10.994924Z",
     "start_time": "2021-12-24T13:00:09.100085Z"
    }
   },
   "outputs": [],
   "source": [
    "func = center\n",
    "\n",
    "dataset.transform(func)"
   ]
  },
  {
   "cell_type": "code",
   "execution_count": 36,
   "id": "57966144",
   "metadata": {
    "ExecuteTime": {
     "end_time": "2021-12-24T13:00:11.677931Z",
     "start_time": "2021-12-24T13:00:11.583722Z"
    }
   },
   "outputs": [
    {
     "name": "stdout",
     "output_type": "stream",
     "text": [
      "----Dataset Information----\n",
      "Pose Extractor: openpose\n",
      "Split: openpose\n",
      "X_train shape: (12562, 30, 13, 5)\n",
      "X_test shape: (2867, 30, 13, 5)\n",
      "Min-Max feature ranges:\n",
      "x: [-1.0, 1.0]\n",
      "y: [-0.9999814805016138, 1.0]\n",
      "Vx: [-2.0, 2.0]\n",
      "Vy: [-1.9995300432531917, 1.9990533747064134]\n",
      "p: [0.0, 1.0]\n"
     ]
    }
   ],
   "source": [
    "dataset.get_info()"
   ]
  },
  {
   "cell_type": "code",
   "execution_count": 37,
   "id": "c66fbd38",
   "metadata": {
    "ExecuteTime": {
     "end_time": "2021-12-24T13:00:12.315486Z",
     "start_time": "2021-12-24T13:00:12.294340Z"
    }
   },
   "outputs": [
    {
     "name": "stdout",
     "output_type": "stream",
     "text": [
      "(12562, 30, 13, 5) (2867, 30, 13, 5)\n"
     ]
    }
   ],
   "source": [
    "X_train, y_train, X_test, y_test = dataset.get_data()\n",
    "print(X_train.shape, X_test.shape)"
   ]
  },
  {
   "cell_type": "code",
   "execution_count": 38,
   "id": "c82d5f62",
   "metadata": {
    "ExecuteTime": {
     "end_time": "2021-12-24T13:00:19.136172Z",
     "start_time": "2021-12-24T13:00:19.031688Z"
    }
   },
   "outputs": [
    {
     "data": {
      "image/png": "[encoded data removed]",
      "text/plain": [
       "<Figure size 432x288 with 1 Axes>"
      ]
     },
     "metadata": {
      "needs_background": "light"
     },
     "output_type": "display_data"
    }
   ],
   "source": [
    "pose = X_train[1000,15,:,:]\n",
    "plot_pose(pose)"
   ]
  },
  {
   "cell_type": "code",
   "execution_count": 39,
   "id": "3801b752",
   "metadata": {
    "ExecuteTime": {
     "end_time": "2021-12-24T13:00:23.146070Z",
     "start_time": "2021-12-24T13:00:23.101634Z"
    }
   },
   "outputs": [],
   "source": [
    "dataset.reset_data()"
   ]
  },
  {
   "cell_type": "code",
   "execution_count": 40,
   "id": "e3c47466",
   "metadata": {
    "ExecuteTime": {
     "end_time": "2021-12-24T13:00:23.797573Z",
     "start_time": "2021-12-24T13:00:23.731641Z"
    }
   },
   "outputs": [
    {
     "name": "stdout",
     "output_type": "stream",
     "text": [
      "----Dataset Information----\n",
      "Pose Extractor: openpose\n",
      "Split: openpose\n",
      "X_train shape: (12562, 30, 25, 3)\n",
      "X_test shape: (2867, 30, 25, 3)\n",
      "Min-Max feature ranges:\n",
      "x: [0.0, 828.042]\n",
      "y: [0.0, 558.729]\n",
      "p: [0.0, 1.0]\n"
     ]
    }
   ],
   "source": [
    "dataset.get_info()"
   ]
  },
  {
   "cell_type": "code",
   "execution_count": null,
   "id": "bd8c028e",
   "metadata": {},
   "outputs": [],
   "source": []
  }
 ],
 "metadata": {
  "kernelspec": {
   "display_name": "Torch",
   "language": "python",
   "name": "torch"
  },
  "language_info": {
   "codemirror_mode": {
    "name": "ipython",
    "version": 3
   },
   "file_extension": ".py",
   "mimetype": "text/x-python",
   "name": "python",
   "nbconvert_exporter": "python",
   "pygments_lexer": "ipython3",
   "version": "3.6.9"
  },
  "toc": {
   "base_numbering": 1,
   "nav_menu": {},
   "number_sections": true,
   "sideBar": true,
   "skip_h1_title": false,
   "title_cell": "Table of Contents",
   "title_sidebar": "Contents",
   "toc_cell": false,
   "toc_position": {},
   "toc_section_display": true,
   "toc_window_display": false
  },
  "varInspector": {
   "cols": {
    "lenName": 16,
    "lenType": 16,
    "lenVar": 40
   },
   "kernels_config": {
    "python": {
     "delete_cmd_postfix": "",
     "delete_cmd_prefix": "del ",
     "library": "var_list.py",
     "varRefreshCmd": "print(var_dic_list())"
    },
    "r": {
     "delete_cmd_postfix": ") ",
     "delete_cmd_prefix": "rm(",
     "library": "var_list.r",
     "varRefreshCmd": "cat(var_dic_list()) "
    }
   },
   "types_to_exclude": [
    "module",
    "function",
    "builtin_function_or_method",
    "instance",
    "_Feature"
   ],
   "window_display": false
  }
 },
 "nbformat": 4,
 "nbformat_minor": 5
}
