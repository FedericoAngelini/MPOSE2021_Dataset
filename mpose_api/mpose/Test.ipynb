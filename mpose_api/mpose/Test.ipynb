{
 "cells": [
  {
   "cell_type": "code",
   "execution_count": 26,
   "id": "37b7b975",
   "metadata": {
    "ExecuteTime": {
     "end_time": "2023-04-28T10:51:07.116152Z",
     "start_time": "2023-04-28T10:51:07.114216Z"
    }
   },
   "outputs": [],
   "source": [
    "from mpose import mpose\n",
    "from utils import plot_pose"
   ]
  },
  {
   "cell_type": "code",
   "execution_count": 29,
   "id": "e3a9b622",
   "metadata": {
    "ExecuteTime": {
     "end_time": "2023-04-28T10:51:50.969131Z",
     "start_time": "2023-04-28T10:51:50.550231Z"
    }
   },
   "outputs": [
    {
     "name": "stdout",
     "output_type": "stream",
     "text": [
      "Initializing MPOSE2021 with openpose Pose Extractor\n",
      "Downloading Data...\n",
      "File exists in /home/simone/.mpose/openpose.zip. specify overwrite=True if intended\n",
      "Extracting Data...\n",
      "File exists in /home/simone/.mpose/openpose/. specify overwrite=True if intended\n"
     ]
    }
   ],
   "source": [
    "dataset = mpose.MPOSE(pose_extractor='openpose', \n",
    "                split=1, \n",
    "                preprocess=None, \n",
    "                velocities=True, \n",
    "                remove_zip=False)"
   ]
  },
  {
   "cell_type": "code",
   "execution_count": 30,
   "id": "ef01538d",
   "metadata": {
    "ExecuteTime": {
     "end_time": "2023-04-28T10:51:51.874890Z",
     "start_time": "2023-04-28T10:51:51.553783Z"
    },
    "scrolled": true
   },
   "outputs": [
    {
     "name": "stdout",
     "output_type": "stream",
     "text": [
      "----Dataset Information----\n",
      "Pose Extractor: openpose\n",
      "Split: 1\n",
      "X_train shape: (12562, 30, 25, 5)\n",
      "X_test shape: (2867, 30, 25, 5)\n",
      "Min-Max feature ranges:\n",
      "x: [0.0, 828.042]\n",
      "y: [0.0, 558.729]\n",
      "Vx: [-803.5, 790.405]\n",
      "Vy: [-511.387, 555.379]\n",
      "p: [0.0, 1.0]\n",
      "(12562, 30, 25, 5) (2867, 30, 25, 5)\n"
     ]
    },
    {
     "data": {
      "image/png": "[encoded data removed]",
      "text/plain": [
       "<Figure size 432x288 with 1 Axes>"
      ]
     },
     "metadata": {
      "needs_background": "light"
     },
     "output_type": "display_data"
    }
   ],
   "source": [
    "dataset.get_info()\n",
    "\n",
    "X_train, y_train, X_test, y_test = dataset.get_data()\n",
    "print(X_train.shape, X_test.shape)\n",
    "\n",
    "pose = X_train[1000,15,:,:]\n",
    "plot_pose(pose)"
   ]
  },
  {
   "cell_type": "code",
   "execution_count": 31,
   "id": "bc5c65f6",
   "metadata": {
    "ExecuteTime": {
     "end_time": "2023-04-28T10:52:03.826828Z",
     "start_time": "2023-04-28T10:52:03.241228Z"
    }
   },
   "outputs": [],
   "source": [
    "dataset.reduce_keypoints()"
   ]
  },
  {
   "cell_type": "code",
   "execution_count": 32,
   "id": "00f711d4",
   "metadata": {
    "ExecuteTime": {
     "end_time": "2023-04-28T10:52:04.773595Z",
     "start_time": "2023-04-28T10:52:04.577074Z"
    },
    "scrolled": false
   },
   "outputs": [
    {
     "name": "stdout",
     "output_type": "stream",
     "text": [
      "----Dataset Information----\n",
      "Pose Extractor: openpose\n",
      "Split: 1\n",
      "X_train shape: (12562, 30, 15, 5)\n",
      "X_test shape: (2867, 30, 15, 5)\n",
      "Min-Max feature ranges:\n",
      "x: [0.0, 821.9149997945212]\n",
      "y: [0.0, 542.8067498642984]\n",
      "Vx: [-743.131, 790.405]\n",
      "Vy: [-476.9509997615245, 541.9379998645155]\n",
      "p: [0.0, 1.0]\n",
      "(12562, 30, 15, 5) (2867, 30, 15, 5)\n"
     ]
    },
    {
     "data": {
      "image/png": "[encoded data removed]",
      "text/plain": [
       "<Figure size 432x288 with 1 Axes>"
      ]
     },
     "metadata": {
      "needs_background": "light"
     },
     "output_type": "display_data"
    }
   ],
   "source": [
    "dataset.get_info()\n",
    "\n",
    "X_train, y_train, X_test, y_test = dataset.get_data()\n",
    "print(X_train.shape, X_test.shape)\n",
    "\n",
    "pose = X_train[1000,15,:,:]\n",
    "plot_pose(pose)"
   ]
  },
  {
   "cell_type": "code",
   "execution_count": 33,
   "id": "24472cfa",
   "metadata": {
    "ExecuteTime": {
     "end_time": "2023-04-28T10:52:10.686626Z",
     "start_time": "2023-04-28T10:52:10.655830Z"
    }
   },
   "outputs": [],
   "source": [
    "dataset.prune()"
   ]
  },
  {
   "cell_type": "code",
   "execution_count": 34,
   "id": "8cd69ef6",
   "metadata": {
    "ExecuteTime": {
     "end_time": "2023-04-28T10:52:11.544344Z",
     "start_time": "2023-04-28T10:52:11.393693Z"
    },
    "scrolled": false
   },
   "outputs": [
    {
     "name": "stdout",
     "output_type": "stream",
     "text": [
      "----Dataset Information----\n",
      "Pose Extractor: openpose\n",
      "Split: 1\n",
      "X_train shape: (12562, 30, 13, 5)\n",
      "X_test shape: (2867, 30, 13, 5)\n",
      "Min-Max feature ranges:\n",
      "x: [0.0, 821.9149997945212]\n",
      "y: [0.0, 542.8067498642984]\n",
      "Vx: [-743.131, 790.405]\n",
      "Vy: [-476.9509997615245, 541.9379998645155]\n",
      "p: [0.0, 1.0]\n",
      "(12562, 30, 13, 5) (2867, 30, 13, 5)\n"
     ]
    },
    {
     "data": {
      "image/png": "[encoded data removed]",
      "text/plain": [
       "<Figure size 432x288 with 1 Axes>"
      ]
     },
     "metadata": {
      "needs_background": "light"
     },
     "output_type": "display_data"
    }
   ],
   "source": [
    "dataset.get_info()\n",
    "\n",
    "X_train, y_train, X_test, y_test = dataset.get_data()\n",
    "print(X_train.shape, X_test.shape)\n",
    "\n",
    "pose = X_train[1000,15,:,:]\n",
    "plot_pose(pose)"
   ]
  },
  {
   "cell_type": "code",
   "execution_count": null,
   "id": "80a344da",
   "metadata": {},
   "outputs": [],
   "source": []
  }
 ],
 "metadata": {
  "kernelspec": {
   "display_name": "SR",
   "language": "python",
   "name": "sr"
  },
  "language_info": {
   "codemirror_mode": {
    "name": "ipython",
    "version": 3
   },
   "file_extension": ".py",
   "mimetype": "text/x-python",
   "name": "python",
   "nbconvert_exporter": "python",
   "pygments_lexer": "ipython3",
   "version": "3.10.5"
  },
  "toc": {
   "base_numbering": 1,
   "nav_menu": {},
   "number_sections": true,
   "sideBar": true,
   "skip_h1_title": false,
   "title_cell": "Table of Contents",
   "title_sidebar": "Contents",
   "toc_cell": false,
   "toc_position": {},
   "toc_section_display": true,
   "toc_window_display": false
  },
  "varInspector": {
   "cols": {
    "lenName": 16,
    "lenType": 16,
    "lenVar": 40
   },
   "kernels_config": {
    "python": {
     "delete_cmd_postfix": "",
     "delete_cmd_prefix": "del ",
     "library": "var_list.py",
     "varRefreshCmd": "print(var_dic_list())"
    },
    "r": {
     "delete_cmd_postfix": ") ",
     "delete_cmd_prefix": "rm(",
     "library": "var_list.r",
     "varRefreshCmd": "cat(var_dic_list()) "
    }
   },
   "types_to_exclude": [
    "module",
    "function",
    "builtin_function_or_method",
    "instance",
    "_Feature"
   ],
   "window_display": false
  }
 },
 "nbformat": 4,
 "nbformat_minor": 5
}
