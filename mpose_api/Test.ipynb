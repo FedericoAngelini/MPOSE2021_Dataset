{
 "cells": [
  {
   "cell_type": "code",
   "execution_count": null,
   "id": "37b7b975",
   "metadata": {
    "ExecuteTime": {
     "end_time": "2023-04-28T10:51:07.116152Z",
     "start_time": "2023-04-28T10:51:07.114216Z"
    }
   },
   "outputs": [],
   "source": [
    "from mpose import MPOSE\n",
    "from mpose.utils import plot_pose"
   ]
  },
  {
   "cell_type": "code",
   "execution_count": null,
   "id": "e3a9b622",
   "metadata": {
    "ExecuteTime": {
     "end_time": "2023-04-28T10:51:50.969131Z",
     "start_time": "2023-04-28T10:51:50.550231Z"
    }
   },
   "outputs": [],
   "source": [
    "dataset = MPOSE(pose_extractor='openpose', \n",
    "                split=1, \n",
    "                preprocess=None, \n",
    "                velocities=True, \n",
    "                remove_zip=False)"
   ]
  },
  {
   "cell_type": "code",
   "execution_count": null,
   "id": "ef01538d",
   "metadata": {
    "ExecuteTime": {
     "end_time": "2023-04-28T10:51:51.874890Z",
     "start_time": "2023-04-28T10:51:51.553783Z"
    },
    "scrolled": true
   },
   "outputs": [],
   "source": [
    "dataset.get_info()\n",
    "\n",
    "X_train, y_train, X_test, y_test = dataset.get_data()\n",
    "print(X_train.shape, X_test.shape)\n",
    "\n",
    "pose = X_train[1000,15,:,:]\n",
    "plot_pose(pose)"
   ]
  },
  {
   "cell_type": "code",
   "execution_count": null,
   "id": "bc5c65f6",
   "metadata": {
    "ExecuteTime": {
     "end_time": "2023-04-28T10:52:03.826828Z",
     "start_time": "2023-04-28T10:52:03.241228Z"
    }
   },
   "outputs": [],
   "source": [
    "dataset.reduce_keypoints()"
   ]
  },
  {
   "cell_type": "code",
   "execution_count": null,
   "id": "00f711d4",
   "metadata": {
    "ExecuteTime": {
     "end_time": "2023-04-28T10:52:04.773595Z",
     "start_time": "2023-04-28T10:52:04.577074Z"
    },
    "scrolled": false
   },
   "outputs": [],
   "source": [
    "dataset.get_info()\n",
    "\n",
    "X_train, y_train, X_test, y_test = dataset.get_data()\n",
    "print(X_train.shape, X_test.shape)\n",
    "\n",
    "pose = X_train[1000,15,:,:]\n",
    "plot_pose(pose)"
   ]
  },
  {
   "cell_type": "code",
   "execution_count": null,
   "id": "24472cfa",
   "metadata": {
    "ExecuteTime": {
     "end_time": "2023-04-28T10:52:10.686626Z",
     "start_time": "2023-04-28T10:52:10.655830Z"
    }
   },
   "outputs": [],
   "source": [
    "dataset.prune()"
   ]
  },
  {
   "cell_type": "code",
   "execution_count": null,
   "id": "8cd69ef6",
   "metadata": {
    "ExecuteTime": {
     "end_time": "2023-04-28T10:52:11.544344Z",
     "start_time": "2023-04-28T10:52:11.393693Z"
    },
    "scrolled": false
   },
   "outputs": [],
   "source": [
    "dataset.get_info()\n",
    "\n",
    "X_train, y_train, X_test, y_test = dataset.get_data()\n",
    "print(X_train.shape, X_test.shape)\n",
    "\n",
    "pose = X_train[1000,15,:,:]\n",
    "plot_pose(pose)"
   ]
  },
  {
   "cell_type": "code",
   "execution_count": null,
   "metadata": {},
   "outputs": [],
   "source": []
  }
 ],
 "metadata": {
  "kernelspec": {
   "display_name": "tensorflow",
   "language": "python",
   "name": "python3"
  },
  "language_info": {
   "codemirror_mode": {
    "name": "ipython",
    "version": 3
   },
   "file_extension": ".py",
   "mimetype": "text/x-python",
   "name": "python",
   "nbconvert_exporter": "python",
   "pygments_lexer": "ipython3",
   "version": "3.8.10"
  },
  "toc": {
   "base_numbering": 1,
   "nav_menu": {},
   "number_sections": true,
   "sideBar": true,
   "skip_h1_title": false,
   "title_cell": "Table of Contents",
   "title_sidebar": "Contents",
   "toc_cell": false,
   "toc_position": {},
   "toc_section_display": true,
   "toc_window_display": false
  },
  "varInspector": {
   "cols": {
    "lenName": 16,
    "lenType": 16,
    "lenVar": 40
   },
   "kernels_config": {
    "python": {
     "delete_cmd_postfix": "",
     "delete_cmd_prefix": "del ",
     "library": "var_list.py",
     "varRefreshCmd": "print(var_dic_list())"
    },
    "r": {
     "delete_cmd_postfix": ") ",
     "delete_cmd_prefix": "rm(",
     "library": "var_list.r",
     "varRefreshCmd": "cat(var_dic_list()) "
    }
   },
   "types_to_exclude": [
    "module",
    "function",
    "builtin_function_or_method",
    "instance",
    "_Feature"
   ],
   "window_display": false
  }
 },
 "nbformat": 4,
 "nbformat_minor": 5
}
