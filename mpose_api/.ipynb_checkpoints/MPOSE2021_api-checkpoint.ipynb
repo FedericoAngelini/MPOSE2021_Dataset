{
 "cells": [
  {
   "cell_type": "code",
   "execution_count": 1,
   "id": "98e88a6d",
   "metadata": {
    "ExecuteTime": {
     "end_time": "2021-09-17T09:50:58.904025Z",
     "start_time": "2021-09-17T09:50:58.897380Z"
    }
   },
   "outputs": [],
   "source": [
    "%load_ext autoreload\n",
    "%autoreload 2"
   ]
  },
  {
   "cell_type": "code",
   "execution_count": 2,
   "id": "1f283fc3",
   "metadata": {
    "ExecuteTime": {
     "end_time": "2021-09-17T09:50:59.122856Z",
     "start_time": "2021-09-17T09:50:59.103062Z"
    }
   },
   "outputs": [],
   "source": [
    "from mpose import MPOSE\n",
    "import numpy as np"
   ]
  },
  {
   "cell_type": "code",
   "execution_count": 3,
   "id": "fe93d83b",
   "metadata": {
    "ExecuteTime": {
     "end_time": "2021-09-17T09:50:59.343002Z",
     "start_time": "2021-09-17T09:50:59.336342Z"
    }
   },
   "outputs": [],
   "source": [
    "data_dir = './data/'\n",
    "pose_extractor = 'posenet'\n",
    "split = '1'"
   ]
  },
  {
   "cell_type": "code",
   "execution_count": 4,
   "id": "5c893abd",
   "metadata": {
    "ExecuteTime": {
     "end_time": "2021-09-17T09:51:06.074991Z",
     "start_time": "2021-09-17T09:50:59.625813Z"
    }
   },
   "outputs": [
    {
     "name": "stdout",
     "output_type": "stream",
     "text": [
      "Initializing MPOSE2021: Pose Extractor is posenet, Split is 1\n",
      "Downloading Data...\n",
      "file exists in ./tmp/posenet/1.zip. specify overwrite=True if intended\n",
      "Extracting Archive to ./tmp/posenet/1...\n",
      "Downloading txt Files...\n",
      "file exists in ./tmp/posenet/1/1.txt. specify overwrite=True if intended\n"
     ]
    }
   ],
   "source": [
    "dataset = MPOSE(pose_extractor=pose_extractor, \n",
    "                split=split, \n",
    "                transform='scale_and_center', \n",
    "                verbose=True, \n",
    "                data_dir=data_dir, \n",
    "                velocities=True, \n",
    "                remove_zip=False)"
   ]
  },
  {
   "cell_type": "code",
   "execution_count": 6,
   "id": "7a962f1e",
   "metadata": {
    "ExecuteTime": {
     "end_time": "2021-09-17T09:51:33.042990Z",
     "start_time": "2021-09-17T09:51:33.028722Z"
    }
   },
   "outputs": [
    {
     "data": {
      "text/plain": [
       "{'standing': 0,\n",
       " 'check-watch': 1,\n",
       " 'cross-arms': 2,\n",
       " 'scratch-head': 3,\n",
       " 'sit-down': 4,\n",
       " 'get-up': 5,\n",
       " 'turn': 6,\n",
       " 'walk': 7,\n",
       " 'wave1': 8,\n",
       " 'box': 9,\n",
       " 'kick': 10,\n",
       " 'point': 11,\n",
       " 'pick-up': 12,\n",
       " 'bend': 13,\n",
       " 'hands-clap': 14,\n",
       " 'wave2': 15,\n",
       " 'jog': 16,\n",
       " 'jump': 17,\n",
       " 'pjump': 18,\n",
       " 'run': 19}"
      ]
     },
     "execution_count": 6,
     "metadata": {},
     "output_type": "execute_result"
    }
   ],
   "source": [
    "dataset.get_labels()"
   ]
  },
  {
   "cell_type": "code",
   "execution_count": 6,
   "id": "cb5b7f3c",
   "metadata": {
    "ExecuteTime": {
     "end_time": "2021-09-17T09:37:59.002382Z",
     "start_time": "2021-09-17T09:37:58.996606Z"
    }
   },
   "outputs": [
    {
     "name": "stdout",
     "output_type": "stream",
     "text": [
      "(12562, 30, 17, 5) (2867, 30, 17, 5)\n"
     ]
    }
   ],
   "source": [
    "X_train, y_train, X_test, y_test = dataset.get_dataset()\n",
    "print(X_train.shape, X_test.shape)"
   ]
  },
  {
   "cell_type": "code",
   "execution_count": 7,
   "id": "316d3317",
   "metadata": {
    "ExecuteTime": {
     "end_time": "2021-09-17T09:37:59.654608Z",
     "start_time": "2021-09-17T09:37:59.507568Z"
    },
    "scrolled": true
   },
   "outputs": [
    {
     "name": "stdout",
     "output_type": "stream",
     "text": [
      "----Dataset Information----\n",
      "Pose Extractor: posenet\n",
      "Split: posenet\n",
      "X_train shape: (12562, 30, 17, 5)\n",
      "X_test shape: (2867, 30, 17, 5)\n",
      "Min-Max feature ranges:\n",
      "x: [-64.90585327148438, 66.42845153808594]\n",
      "y: [-65.70108795166016, 188.3693618774414]\n",
      "Vx: [-416.0, 416.0]\n",
      "Vy: [-288.0, 288.0]\n",
      "p: [0.0, 0.9972699284553528]\n"
     ]
    }
   ],
   "source": [
    "dataset.get_info()"
   ]
  },
  {
   "cell_type": "code",
   "execution_count": 8,
   "id": "5f04c518",
   "metadata": {
    "ExecuteTime": {
     "end_time": "2021-09-17T09:37:59.965834Z",
     "start_time": "2021-09-17T09:37:59.960910Z"
    }
   },
   "outputs": [],
   "source": [
    "# dataset.scale_and_center()\n",
    "# dataset.scale_to_unit()\n",
    "# dataset.add_velocities()"
   ]
  },
  {
   "cell_type": "code",
   "execution_count": 9,
   "id": "1879ba02",
   "metadata": {
    "ExecuteTime": {
     "end_time": "2021-09-17T09:38:00.611009Z",
     "start_time": "2021-09-17T09:38:00.471057Z"
    },
    "scrolled": true
   },
   "outputs": [
    {
     "name": "stdout",
     "output_type": "stream",
     "text": [
      "----Dataset Information----\n",
      "Pose Extractor: posenet\n",
      "Split: posenet\n",
      "X_train shape: (12562, 30, 17, 5)\n",
      "X_test shape: (2867, 30, 17, 5)\n",
      "Min-Max feature ranges:\n",
      "x: [-64.90585327148438, 66.42845153808594]\n",
      "y: [-65.70108795166016, 188.3693618774414]\n",
      "Vx: [-416.0, 416.0]\n",
      "Vy: [-288.0, 288.0]\n",
      "p: [0.0, 0.9972699284553528]\n"
     ]
    }
   ],
   "source": [
    "dataset.get_info()"
   ]
  },
  {
   "cell_type": "code",
   "execution_count": 10,
   "id": "23548fbd",
   "metadata": {
    "ExecuteTime": {
     "end_time": "2021-09-17T09:38:00.993343Z",
     "start_time": "2021-09-17T09:38:00.987330Z"
    }
   },
   "outputs": [],
   "source": [
    "def center(X):\n",
    "    seq_list = []\n",
    "    for seq in X:\n",
    "        pose_list = []\n",
    "        for pose in seq:\n",
    "            zero_point = (pose[6, :2] + pose[5,:2]) / 2\n",
    "            pose[:,:2] = (pose[:,:2] - zero_point)\n",
    "            pose_list.append(pose)\n",
    "        seq = np.stack(pose_list)\n",
    "        seq_list.append(seq)\n",
    "    X = np.stack(seq_list)\n",
    "    return X"
   ]
  },
  {
   "cell_type": "code",
   "execution_count": 11,
   "id": "eccdb2f7",
   "metadata": {
    "ExecuteTime": {
     "end_time": "2021-09-17T09:38:03.331132Z",
     "start_time": "2021-09-17T09:38:01.318908Z"
    }
   },
   "outputs": [],
   "source": [
    "func = center\n",
    "\n",
    "dataset.transform(func)"
   ]
  },
  {
   "cell_type": "code",
   "execution_count": 12,
   "id": "57966144",
   "metadata": {
    "ExecuteTime": {
     "end_time": "2021-09-17T09:38:03.553305Z",
     "start_time": "2021-09-17T09:38:03.418402Z"
    }
   },
   "outputs": [
    {
     "name": "stdout",
     "output_type": "stream",
     "text": [
      "----Dataset Information----\n",
      "Pose Extractor: posenet\n",
      "Split: posenet\n",
      "X_train shape: (12562, 30, 17, 5)\n",
      "X_test shape: (2867, 30, 17, 5)\n",
      "Min-Max feature ranges:\n",
      "x: [-64.90585327148438, 66.42845153808594]\n",
      "y: [-65.70108795166016, 188.3693618774414]\n",
      "Vx: [-416.0, 416.0]\n",
      "Vy: [-288.0, 288.0]\n",
      "p: [0.0, 0.9972699284553528]\n"
     ]
    }
   ],
   "source": [
    "dataset.get_info()"
   ]
  },
  {
   "cell_type": "code",
   "execution_count": 13,
   "id": "3801b752",
   "metadata": {
    "ExecuteTime": {
     "end_time": "2021-09-17T09:38:03.697832Z",
     "start_time": "2021-09-17T09:38:03.654401Z"
    }
   },
   "outputs": [],
   "source": [
    "dataset.reset_data()"
   ]
  },
  {
   "cell_type": "code",
   "execution_count": 14,
   "id": "e3c47466",
   "metadata": {
    "ExecuteTime": {
     "end_time": "2021-09-17T09:38:05.962727Z",
     "start_time": "2021-09-17T09:38:05.904247Z"
    }
   },
   "outputs": [
    {
     "name": "stdout",
     "output_type": "stream",
     "text": [
      "----Dataset Information----\n",
      "Pose Extractor: posenet\n",
      "Split: posenet\n",
      "X_train shape: (12562, 30, 17, 3)\n",
      "X_test shape: (2867, 30, 17, 3)\n",
      "Min-Max feature ranges:\n",
      "x: [0.0, 416.0]\n",
      "y: [0.0, 288.0]\n",
      "p: [0.0, 0.9972699284553528]\n"
     ]
    }
   ],
   "source": [
    "dataset.get_info()"
   ]
  },
  {
   "cell_type": "code",
   "execution_count": null,
   "id": "3c3b6a84",
   "metadata": {},
   "outputs": [],
   "source": []
  }
 ],
 "metadata": {
  "kernelspec": {
   "display_name": "Torch",
   "language": "python",
   "name": "torch"
  },
  "language_info": {
   "codemirror_mode": {
    "name": "ipython",
    "version": 3
   },
   "file_extension": ".py",
   "mimetype": "text/x-python",
   "name": "python",
   "nbconvert_exporter": "python",
   "pygments_lexer": "ipython3",
   "version": "3.6.9"
  },
  "toc": {
   "base_numbering": 1,
   "nav_menu": {},
   "number_sections": true,
   "sideBar": true,
   "skip_h1_title": false,
   "title_cell": "Table of Contents",
   "title_sidebar": "Contents",
   "toc_cell": false,
   "toc_position": {},
   "toc_section_display": true,
   "toc_window_display": false
  },
  "varInspector": {
   "cols": {
    "lenName": 16,
    "lenType": 16,
    "lenVar": 40
   },
   "kernels_config": {
    "python": {
     "delete_cmd_postfix": "",
     "delete_cmd_prefix": "del ",
     "library": "var_list.py",
     "varRefreshCmd": "print(var_dic_list())"
    },
    "r": {
     "delete_cmd_postfix": ") ",
     "delete_cmd_prefix": "rm(",
     "library": "var_list.r",
     "varRefreshCmd": "cat(var_dic_list()) "
    }
   },
   "types_to_exclude": [
    "module",
    "function",
    "builtin_function_or_method",
    "instance",
    "_Feature"
   ],
   "window_display": false
  }
 },
 "nbformat": 4,
 "nbformat_minor": 5
}
